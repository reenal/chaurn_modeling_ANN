{
 "cells": [
  {
   "cell_type": "code",
   "execution_count": 1,
   "metadata": {
    "id": "D2IliGyI62B0"
   },
   "outputs": [
    {
     "name": "stderr",
     "output_type": "stream",
     "text": [
      "2023-08-31 11:28:44.071366: I tensorflow/core/platform/cpu_feature_guard.cc:182] This TensorFlow binary is optimized to use available CPU instructions in performance-critical operations.\n",
      "To enable the following instructions: SSE4.1 SSE4.2 AVX AVX2 FMA, in other operations, rebuild TensorFlow with the appropriate compiler flags.\n"
     ]
    }
   ],
   "source": [
    "import tensorflow as tf"
   ]
  },
  {
   "cell_type": "code",
   "execution_count": 2,
   "metadata": {
    "colab": {
     "base_uri": "https://localhost:8080/"
    },
    "id": "4_fyxUHb7GuH",
    "outputId": "2c8a495d-cff8-49f1-b9c2-fa63165b0043"
   },
   "outputs": [
    {
     "name": "stdout",
     "output_type": "stream",
     "text": [
      "2.12.0\n"
     ]
    }
   ],
   "source": [
    "print(tf.__version__)"
   ]
  },
  {
   "cell_type": "code",
   "execution_count": 3,
   "metadata": {
    "id": "LLvV2K-o7KAp"
   },
   "outputs": [],
   "source": [
    "# Importing the libraries\n",
    "import numpy as np\n",
    "import matplotlib.pyplot as plt\n",
    "import pandas as pd"
   ]
  },
  {
   "cell_type": "code",
   "execution_count": 4,
   "metadata": {
    "id": "gHRHobkK7Sxn"
   },
   "outputs": [],
   "source": [
    "# Importing the dataset\n",
    "dataset = pd.read_csv('Churn_Modelling.csv')\n",
    "X = dataset.iloc[:, 3:13]\n",
    "y = dataset.iloc[:, 13]"
   ]
  },
  {
   "cell_type": "code",
   "execution_count": 5,
   "metadata": {
    "id": "T2yS0VL67Ufn"
   },
   "outputs": [],
   "source": [
    "#Create dummy variables\n",
    "geography=pd.get_dummies(X[\"Geography\"],drop_first=True)\n",
    "gender=pd.get_dummies(X['Gender'],drop_first=True)"
   ]
  },
  {
   "cell_type": "code",
   "execution_count": 6,
   "metadata": {
    "id": "Co2rxaFR7Wgo"
   },
   "outputs": [],
   "source": [
    "## Concatenate the Data Frames\n",
    "\n",
    "X=pd.concat([X,geography,gender],axis=1)\n",
    "\n",
    "## Drop Unnecessary columns\n",
    "X=X.drop(['Geography','Gender'],axis=1)\n",
    "\n",
    "# Splitting the dataset into the Training set and Test set\n",
    "from sklearn.model_selection import train_test_split\n",
    "X_train, X_test, y_train, y_test = train_test_split(X, y, test_size = 0.2, random_state = 0)\n"
   ]
  },
  {
   "cell_type": "code",
   "execution_count": 7,
   "metadata": {
    "id": "GNZrZXy37ZLs"
   },
   "outputs": [],
   "source": [
    "# Feature Scaling\n",
    "from sklearn.preprocessing import StandardScaler\n",
    "sc = StandardScaler()\n",
    "X_train = sc.fit_transform(X_train)\n",
    "X_test = sc.transform(X_test)\n"
   ]
  },
  {
   "cell_type": "code",
   "execution_count": 8,
   "metadata": {
    "id": "uwN3bgie7bvT"
   },
   "outputs": [],
   "source": [
    "# Part 2 - Now let's make the ANN!"
   ]
  },
  {
   "cell_type": "code",
   "execution_count": 9,
   "metadata": {
    "id": "rL_a7vWu7dj1"
   },
   "outputs": [],
   "source": [
    "from tensorflow.keras.models import Sequential\n",
    "from tensorflow.keras.layers import Dense\n",
    "from tensorflow.keras.layers import LeakyReLU,PReLU,ELU\n",
    "from tensorflow.keras.layers import Dropout\n"
   ]
  },
  {
   "cell_type": "code",
   "execution_count": 10,
   "metadata": {
    "id": "VDJwvrbZ7kj4"
   },
   "outputs": [
    {
     "name": "stderr",
     "output_type": "stream",
     "text": [
      "2023-08-31 17:25:30.795317: I tensorflow/core/common_runtime/process_util.cc:146] Creating new thread pool with default inter op setting: 2. Tune using inter_op_parallelism_threads for best performance.\n"
     ]
    }
   ],
   "source": [
    "# Initialising the ANN\n",
    "classifier = Sequential()"
   ]
  },
  {
   "cell_type": "code",
   "execution_count": 11,
   "metadata": {
    "id": "RSZQrU-g7z4N"
   },
   "outputs": [],
   "source": [
    "# Adding the input layer and the first hidden layer\n",
    "classifier.add(Dense(units=11,activation='relu'))"
   ]
  },
  {
   "cell_type": "code",
   "execution_count": 12,
   "metadata": {
    "id": "byszZMvw8RcQ"
   },
   "outputs": [],
   "source": [
    "# Adding the input layer and the first hidden layer\n",
    "classifier.add(Dense(units=6,activation='relu'))"
   ]
  },
  {
   "cell_type": "code",
   "execution_count": 15,
   "metadata": {
    "id": "Mk2slmAX8XUI"
   },
   "outputs": [],
   "source": [
    "# Adding the input layer and the first hidden layer\n",
    "classifier.add(Dense(units=1,activation='sigmoid'))"
   ]
  },
  {
   "cell_type": "code",
   "execution_count": 17,
   "metadata": {},
   "outputs": [],
   "source": [
    "import tensorflow as tf \n",
    "early_stop = tf.keras.callbacks.EarlyStopping(\n",
    "    monitor=\"val_loss\",\n",
    "    min_delta=0.0001,\n",
    "    patience=20,\n",
    "    verbose=1,\n",
    "    mode=\"auto\",\n",
    "    baseline=None,\n",
    "    restore_best_weights=False\n",
    ")"
   ]
  },
  {
   "cell_type": "code",
   "execution_count": 18,
   "metadata": {
    "id": "F2udThHo8cFt"
   },
   "outputs": [],
   "source": [
    "classifier.compile(optimizer='adam',loss='binary_crossentropy',metrics=['accuracy'])"
   ]
  },
  {
   "cell_type": "code",
   "execution_count": 19,
   "metadata": {
    "colab": {
     "base_uri": "https://localhost:8080/"
    },
    "id": "3qairJAs8fIc",
    "outputId": "0730a4ec-193f-41ae-daff-4ccc7673b142"
   },
   "outputs": [
    {
     "name": "stdout",
     "output_type": "stream",
     "text": [
      "Epoch 1/100\n"
     ]
    },
    {
     "name": "stderr",
     "output_type": "stream",
     "text": [
      "/home/reenal/anaconda3/envs/cigar/lib/python3.9/site-packages/keras/engine/data_adapter.py:1700: FutureWarning: The behavior of `series[i:j]` with an integer-dtype index is deprecated. In a future version, this will be treated as *label-based* indexing, consistent with e.g. `series[i]` lookups. To retain the old behavior, use `series.iloc[i:j]`. To get the future behavior, use `series.loc[i:j]`.\n",
      "  return t[start:end]\n"
     ]
    },
    {
     "name": "stdout",
     "output_type": "stream",
     "text": [
      "536/536 [==============================] - 3s 4ms/step - loss: 0.5410 - accuracy: 0.7949 - val_loss: 0.4718 - val_accuracy: 0.7955\n",
      "Epoch 2/100\n",
      "536/536 [==============================] - 2s 4ms/step - loss: 0.4401 - accuracy: 0.7962 - val_loss: 0.4331 - val_accuracy: 0.7955\n",
      "Epoch 3/100\n",
      "536/536 [==============================] - 2s 3ms/step - loss: 0.4109 - accuracy: 0.7962 - val_loss: 0.4139 - val_accuracy: 0.7955\n",
      "Epoch 4/100\n",
      "536/536 [==============================] - 2s 4ms/step - loss: 0.3938 - accuracy: 0.7962 - val_loss: 0.4042 - val_accuracy: 0.7955\n",
      "Epoch 5/100\n",
      "536/536 [==============================] - 1s 3ms/step - loss: 0.3825 - accuracy: 0.8140 - val_loss: 0.3948 - val_accuracy: 0.8304\n",
      "Epoch 6/100\n",
      "536/536 [==============================] - 2s 3ms/step - loss: 0.3748 - accuracy: 0.8442 - val_loss: 0.3909 - val_accuracy: 0.8311\n",
      "Epoch 7/100\n",
      "536/536 [==============================] - 2s 4ms/step - loss: 0.3700 - accuracy: 0.8472 - val_loss: 0.3871 - val_accuracy: 0.8448\n",
      "Epoch 8/100\n",
      "536/536 [==============================] - 2s 4ms/step - loss: 0.3654 - accuracy: 0.8507 - val_loss: 0.3843 - val_accuracy: 0.8432\n",
      "Epoch 9/100\n",
      "536/536 [==============================] - 2s 4ms/step - loss: 0.3611 - accuracy: 0.8531 - val_loss: 0.3841 - val_accuracy: 0.8425\n",
      "Epoch 10/100\n",
      "536/536 [==============================] - 1s 3ms/step - loss: 0.3580 - accuracy: 0.8502 - val_loss: 0.3801 - val_accuracy: 0.8421\n",
      "Epoch 11/100\n",
      "536/536 [==============================] - 2s 3ms/step - loss: 0.3551 - accuracy: 0.8559 - val_loss: 0.3779 - val_accuracy: 0.8440\n",
      "Epoch 12/100\n",
      "536/536 [==============================] - 2s 3ms/step - loss: 0.3530 - accuracy: 0.8518 - val_loss: 0.3755 - val_accuracy: 0.8497\n",
      "Epoch 13/100\n",
      "536/536 [==============================] - 2s 4ms/step - loss: 0.3511 - accuracy: 0.8569 - val_loss: 0.3739 - val_accuracy: 0.8512\n",
      "Epoch 14/100\n",
      "536/536 [==============================] - 2s 3ms/step - loss: 0.3482 - accuracy: 0.8582 - val_loss: 0.3747 - val_accuracy: 0.8519\n",
      "Epoch 15/100\n",
      "536/536 [==============================] - 2s 3ms/step - loss: 0.3468 - accuracy: 0.8558 - val_loss: 0.3729 - val_accuracy: 0.8519\n",
      "Epoch 16/100\n",
      "536/536 [==============================] - 2s 4ms/step - loss: 0.3456 - accuracy: 0.8572 - val_loss: 0.3701 - val_accuracy: 0.8527\n",
      "Epoch 17/100\n",
      "536/536 [==============================] - 2s 4ms/step - loss: 0.3442 - accuracy: 0.8586 - val_loss: 0.3701 - val_accuracy: 0.8512\n",
      "Epoch 18/100\n",
      "536/536 [==============================] - 2s 4ms/step - loss: 0.3435 - accuracy: 0.8643 - val_loss: 0.3700 - val_accuracy: 0.8531\n",
      "Epoch 19/100\n",
      "536/536 [==============================] - 3s 5ms/step - loss: 0.3416 - accuracy: 0.8591 - val_loss: 0.3675 - val_accuracy: 0.8550\n",
      "Epoch 20/100\n",
      "536/536 [==============================] - 2s 4ms/step - loss: 0.3403 - accuracy: 0.8606 - val_loss: 0.3757 - val_accuracy: 0.8466\n",
      "Epoch 21/100\n",
      "536/536 [==============================] - 2s 4ms/step - loss: 0.3398 - accuracy: 0.8606 - val_loss: 0.3689 - val_accuracy: 0.8527\n",
      "Epoch 22/100\n",
      "536/536 [==============================] - 2s 3ms/step - loss: 0.3387 - accuracy: 0.8617 - val_loss: 0.3659 - val_accuracy: 0.8535\n",
      "Epoch 23/100\n",
      "536/536 [==============================] - 2s 3ms/step - loss: 0.3383 - accuracy: 0.8632 - val_loss: 0.3673 - val_accuracy: 0.8546\n",
      "Epoch 24/100\n",
      "536/536 [==============================] - 2s 4ms/step - loss: 0.3377 - accuracy: 0.8621 - val_loss: 0.3656 - val_accuracy: 0.8565\n",
      "Epoch 25/100\n",
      "536/536 [==============================] - 2s 3ms/step - loss: 0.3364 - accuracy: 0.8634 - val_loss: 0.3647 - val_accuracy: 0.8527\n",
      "Epoch 26/100\n",
      "536/536 [==============================] - 2s 3ms/step - loss: 0.3366 - accuracy: 0.8634 - val_loss: 0.3701 - val_accuracy: 0.8501\n",
      "Epoch 27/100\n",
      "536/536 [==============================] - 2s 3ms/step - loss: 0.3352 - accuracy: 0.8621 - val_loss: 0.3630 - val_accuracy: 0.8527\n",
      "Epoch 28/100\n",
      "536/536 [==============================] - 3s 6ms/step - loss: 0.3351 - accuracy: 0.8628 - val_loss: 0.3636 - val_accuracy: 0.8542\n",
      "Epoch 29/100\n",
      "536/536 [==============================] - 2s 3ms/step - loss: 0.3340 - accuracy: 0.8640 - val_loss: 0.3613 - val_accuracy: 0.8542\n",
      "Epoch 30/100\n",
      "536/536 [==============================] - 2s 3ms/step - loss: 0.3324 - accuracy: 0.8658 - val_loss: 0.3625 - val_accuracy: 0.8584\n",
      "Epoch 31/100\n",
      "536/536 [==============================] - 2s 3ms/step - loss: 0.3328 - accuracy: 0.8640 - val_loss: 0.3601 - val_accuracy: 0.8565\n",
      "Epoch 32/100\n",
      "536/536 [==============================] - 3s 5ms/step - loss: 0.3313 - accuracy: 0.8638 - val_loss: 0.3609 - val_accuracy: 0.8538\n",
      "Epoch 33/100\n",
      "536/536 [==============================] - 2s 4ms/step - loss: 0.3312 - accuracy: 0.8634 - val_loss: 0.3618 - val_accuracy: 0.8561\n",
      "Epoch 34/100\n",
      "536/536 [==============================] - 2s 4ms/step - loss: 0.3312 - accuracy: 0.8619 - val_loss: 0.3610 - val_accuracy: 0.8550\n",
      "Epoch 35/100\n",
      "536/536 [==============================] - 2s 3ms/step - loss: 0.3305 - accuracy: 0.8666 - val_loss: 0.3608 - val_accuracy: 0.8531\n",
      "Epoch 36/100\n",
      "536/536 [==============================] - 2s 4ms/step - loss: 0.3295 - accuracy: 0.8636 - val_loss: 0.3573 - val_accuracy: 0.8569\n",
      "Epoch 37/100\n",
      "536/536 [==============================] - 3s 5ms/step - loss: 0.3290 - accuracy: 0.8632 - val_loss: 0.3609 - val_accuracy: 0.8542\n",
      "Epoch 38/100\n",
      "536/536 [==============================] - 2s 3ms/step - loss: 0.3292 - accuracy: 0.8647 - val_loss: 0.3576 - val_accuracy: 0.8584\n",
      "Epoch 39/100\n",
      "536/536 [==============================] - 3s 6ms/step - loss: 0.3284 - accuracy: 0.8640 - val_loss: 0.3561 - val_accuracy: 0.8565\n",
      "Epoch 40/100\n",
      "536/536 [==============================] - 2s 4ms/step - loss: 0.3274 - accuracy: 0.8647 - val_loss: 0.3604 - val_accuracy: 0.8535\n",
      "Epoch 41/100\n",
      "536/536 [==============================] - 2s 3ms/step - loss: 0.3278 - accuracy: 0.8638 - val_loss: 0.3583 - val_accuracy: 0.8538\n",
      "Epoch 42/100\n",
      "536/536 [==============================] - 2s 3ms/step - loss: 0.3268 - accuracy: 0.8634 - val_loss: 0.3564 - val_accuracy: 0.8569\n",
      "Epoch 43/100\n",
      "536/536 [==============================] - 2s 4ms/step - loss: 0.3278 - accuracy: 0.8630 - val_loss: 0.3575 - val_accuracy: 0.8546\n",
      "Epoch 44/100\n",
      "536/536 [==============================] - 2s 5ms/step - loss: 0.3268 - accuracy: 0.8621 - val_loss: 0.3576 - val_accuracy: 0.8561\n",
      "Epoch 45/100\n",
      "536/536 [==============================] - 2s 4ms/step - loss: 0.3261 - accuracy: 0.8621 - val_loss: 0.3595 - val_accuracy: 0.8565\n",
      "Epoch 46/100\n",
      "536/536 [==============================] - 2s 4ms/step - loss: 0.3262 - accuracy: 0.8642 - val_loss: 0.3597 - val_accuracy: 0.8607\n",
      "Epoch 47/100\n",
      "536/536 [==============================] - 2s 3ms/step - loss: 0.3262 - accuracy: 0.8627 - val_loss: 0.3585 - val_accuracy: 0.8557\n",
      "Epoch 48/100\n",
      "536/536 [==============================] - 2s 3ms/step - loss: 0.3257 - accuracy: 0.8617 - val_loss: 0.3580 - val_accuracy: 0.8557\n",
      "Epoch 49/100\n",
      "536/536 [==============================] - 2s 3ms/step - loss: 0.3252 - accuracy: 0.8660 - val_loss: 0.3659 - val_accuracy: 0.8527\n",
      "Epoch 50/100\n",
      "536/536 [==============================] - 2s 3ms/step - loss: 0.3258 - accuracy: 0.8640 - val_loss: 0.3568 - val_accuracy: 0.8580\n",
      "Epoch 51/100\n",
      "536/536 [==============================] - 2s 3ms/step - loss: 0.3249 - accuracy: 0.8623 - val_loss: 0.3590 - val_accuracy: 0.8569\n",
      "Epoch 52/100\n",
      "536/536 [==============================] - 2s 4ms/step - loss: 0.3246 - accuracy: 0.8660 - val_loss: 0.3559 - val_accuracy: 0.8584\n",
      "Epoch 53/100\n",
      "536/536 [==============================] - 2s 3ms/step - loss: 0.3243 - accuracy: 0.8651 - val_loss: 0.3635 - val_accuracy: 0.8519\n",
      "Epoch 54/100\n",
      "536/536 [==============================] - 2s 4ms/step - loss: 0.3255 - accuracy: 0.8589 - val_loss: 0.3576 - val_accuracy: 0.8614\n",
      "Epoch 55/100\n",
      "536/536 [==============================] - 2s 3ms/step - loss: 0.3229 - accuracy: 0.8653 - val_loss: 0.3576 - val_accuracy: 0.8576\n",
      "Epoch 56/100\n",
      "536/536 [==============================] - 1s 3ms/step - loss: 0.3246 - accuracy: 0.8632 - val_loss: 0.3571 - val_accuracy: 0.8588\n",
      "Epoch 57/100\n",
      "536/536 [==============================] - 2s 3ms/step - loss: 0.3229 - accuracy: 0.8668 - val_loss: 0.3648 - val_accuracy: 0.8527\n",
      "Epoch 58/100\n"
     ]
    },
    {
     "name": "stdout",
     "output_type": "stream",
     "text": [
      "536/536 [==============================] - 2s 3ms/step - loss: 0.3238 - accuracy: 0.8664 - val_loss: 0.3603 - val_accuracy: 0.8557\n",
      "Epoch 59/100\n",
      "536/536 [==============================] - 2s 3ms/step - loss: 0.3239 - accuracy: 0.8643 - val_loss: 0.3591 - val_accuracy: 0.8542\n",
      "Epoch 60/100\n",
      "536/536 [==============================] - 2s 3ms/step - loss: 0.3230 - accuracy: 0.8647 - val_loss: 0.3564 - val_accuracy: 0.8580\n",
      "Epoch 61/100\n",
      "536/536 [==============================] - 2s 4ms/step - loss: 0.3228 - accuracy: 0.8651 - val_loss: 0.3570 - val_accuracy: 0.8599\n",
      "Epoch 62/100\n",
      "536/536 [==============================] - 2s 4ms/step - loss: 0.3230 - accuracy: 0.8656 - val_loss: 0.3574 - val_accuracy: 0.8569\n",
      "Epoch 63/100\n",
      "536/536 [==============================] - 2s 4ms/step - loss: 0.3231 - accuracy: 0.8656 - val_loss: 0.3571 - val_accuracy: 0.8603\n",
      "Epoch 64/100\n",
      "536/536 [==============================] - 2s 4ms/step - loss: 0.3224 - accuracy: 0.8621 - val_loss: 0.3561 - val_accuracy: 0.8588\n",
      "Epoch 65/100\n",
      "536/536 [==============================] - 2s 3ms/step - loss: 0.3220 - accuracy: 0.8655 - val_loss: 0.3571 - val_accuracy: 0.8584\n",
      "Epoch 66/100\n",
      "536/536 [==============================] - 2s 4ms/step - loss: 0.3224 - accuracy: 0.8660 - val_loss: 0.3549 - val_accuracy: 0.8607\n",
      "Epoch 67/100\n",
      "536/536 [==============================] - 2s 3ms/step - loss: 0.3216 - accuracy: 0.8638 - val_loss: 0.3556 - val_accuracy: 0.8591\n",
      "Epoch 68/100\n",
      "536/536 [==============================] - 2s 4ms/step - loss: 0.3222 - accuracy: 0.8653 - val_loss: 0.3557 - val_accuracy: 0.8603\n",
      "Epoch 69/100\n",
      "536/536 [==============================] - 2s 4ms/step - loss: 0.3211 - accuracy: 0.8645 - val_loss: 0.3594 - val_accuracy: 0.8561\n",
      "Epoch 70/100\n",
      "536/536 [==============================] - 2s 3ms/step - loss: 0.3212 - accuracy: 0.8656 - val_loss: 0.3729 - val_accuracy: 0.8493\n",
      "Epoch 71/100\n",
      "536/536 [==============================] - 2s 3ms/step - loss: 0.3205 - accuracy: 0.8671 - val_loss: 0.3611 - val_accuracy: 0.8550\n",
      "Epoch 72/100\n",
      "536/536 [==============================] - 2s 3ms/step - loss: 0.3205 - accuracy: 0.8677 - val_loss: 0.3568 - val_accuracy: 0.8607\n",
      "Epoch 73/100\n",
      "536/536 [==============================] - 2s 3ms/step - loss: 0.3201 - accuracy: 0.8677 - val_loss: 0.3576 - val_accuracy: 0.8569\n",
      "Epoch 74/100\n",
      "536/536 [==============================] - 1s 3ms/step - loss: 0.3204 - accuracy: 0.8651 - val_loss: 0.3552 - val_accuracy: 0.8607\n",
      "Epoch 75/100\n",
      "536/536 [==============================] - 2s 3ms/step - loss: 0.3204 - accuracy: 0.8647 - val_loss: 0.3572 - val_accuracy: 0.8584\n",
      "Epoch 76/100\n",
      "536/536 [==============================] - 2s 3ms/step - loss: 0.3203 - accuracy: 0.8666 - val_loss: 0.3605 - val_accuracy: 0.8569\n",
      "Epoch 77/100\n",
      "536/536 [==============================] - 2s 4ms/step - loss: 0.3192 - accuracy: 0.8664 - val_loss: 0.3594 - val_accuracy: 0.8561\n",
      "Epoch 78/100\n",
      "536/536 [==============================] - 2s 4ms/step - loss: 0.3198 - accuracy: 0.8655 - val_loss: 0.3573 - val_accuracy: 0.8580\n",
      "Epoch 79/100\n",
      "536/536 [==============================] - 2s 4ms/step - loss: 0.3196 - accuracy: 0.8668 - val_loss: 0.3582 - val_accuracy: 0.8610\n",
      "Epoch 80/100\n",
      "536/536 [==============================] - 2s 3ms/step - loss: 0.3194 - accuracy: 0.8670 - val_loss: 0.3597 - val_accuracy: 0.8607\n",
      "Epoch 81/100\n",
      "536/536 [==============================] - 2s 4ms/step - loss: 0.3200 - accuracy: 0.8679 - val_loss: 0.3563 - val_accuracy: 0.8599\n",
      "Epoch 82/100\n",
      "536/536 [==============================] - 2s 4ms/step - loss: 0.3185 - accuracy: 0.8688 - val_loss: 0.3575 - val_accuracy: 0.8573\n",
      "Epoch 83/100\n",
      "536/536 [==============================] - 2s 3ms/step - loss: 0.3190 - accuracy: 0.8671 - val_loss: 0.3571 - val_accuracy: 0.8557\n",
      "Epoch 84/100\n",
      "536/536 [==============================] - 2s 3ms/step - loss: 0.3195 - accuracy: 0.8664 - val_loss: 0.3599 - val_accuracy: 0.8554\n",
      "Epoch 85/100\n",
      "536/536 [==============================] - 2s 4ms/step - loss: 0.3188 - accuracy: 0.8684 - val_loss: 0.3618 - val_accuracy: 0.8554\n",
      "Epoch 86/100\n",
      "536/536 [==============================] - 1s 3ms/step - loss: 0.3190 - accuracy: 0.8627 - val_loss: 0.3637 - val_accuracy: 0.8535\n",
      "Epoch 86: early stopping\n"
     ]
    }
   ],
   "source": [
    "model_history=classifier.fit(X_train,y_train,validation_split=0.33,batch_size=10,epochs=100, callbacks=[early_stop])"
   ]
  },
  {
   "cell_type": "code",
   "execution_count": 20,
   "metadata": {
    "colab": {
     "base_uri": "https://localhost:8080/"
    },
    "id": "Q9t_M4wICTTz",
    "outputId": "18fa935a-8009-407f-de61-7f6a83669624"
   },
   "outputs": [
    {
     "name": "stdout",
     "output_type": "stream",
     "text": [
      "dict_keys(['loss', 'accuracy', 'val_loss', 'val_accuracy'])\n"
     ]
    }
   ],
   "source": [
    "# list all data in history\n",
    "\n",
    "print(model_history.history.keys())"
   ]
  },
  {
   "cell_type": "code",
   "execution_count": 21,
   "metadata": {
    "colab": {
     "base_uri": "https://localhost:8080/",
     "height": 295
    },
    "id": "MMOyiwzgBlLY",
    "outputId": "aeb29600-3c1f-41aa-9e29-05acf6011ed8"
   },
   "outputs": [
    {
     "data": {
      "image/png": "[encoded data removed]",
      "text/plain": [
       "<Figure size 640x480 with 1 Axes>"
      ]
     },
     "metadata": {},
     "output_type": "display_data"
    }
   ],
   "source": [
    "\n",
    "# summarize history for accuracy\n",
    "plt.plot(model_history.history['accuracy'])\n",
    "plt.plot(model_history.history['val_accuracy'])\n",
    "plt.title('model accuracy')\n",
    "plt.ylabel('accuracy')\n",
    "plt.xlabel('epoch')\n",
    "plt.legend(['train', 'test'], loc='upper left')\n",
    "plt.show()"
   ]
  },
  {
   "cell_type": "code",
   "execution_count": 22,
   "metadata": {
    "colab": {
     "base_uri": "https://localhost:8080/",
     "height": 295
    },
    "id": "QH141RsQCEr0",
    "outputId": "4566dca0-b002-4f59-b6e8-f8654b414283"
   },
   "outputs": [
    {
     "data": {
      "image/png": "[encoded data removed]",
      "text/plain": [
       "<Figure size 640x480 with 1 Axes>"
      ]
     },
     "metadata": {},
     "output_type": "display_data"
    }
   ],
   "source": [
    "# summarize history for loss\n",
    "plt.plot(model_history.history['loss'])\n",
    "plt.plot(model_history.history['val_loss'])\n",
    "plt.title('model loss')\n",
    "plt.ylabel('loss')\n",
    "plt.xlabel('epoch')\n",
    "plt.legend(['train', 'test'], loc='upper left')\n",
    "plt.show()"
   ]
  },
  {
   "cell_type": "code",
   "execution_count": 23,
   "metadata": {
    "id": "OYqCIIkDCd8S"
   },
   "outputs": [
    {
     "name": "stdout",
     "output_type": "stream",
     "text": [
      "63/63 [==============================] - 0s 6ms/step\n"
     ]
    }
   ],
   "source": [
    "# Part 3 - Making the predictions and evaluating the model\n",
    "\n",
    "# Predicting the Test set results\n",
    "y_pred = classifier.predict(X_test)\n",
    "y_pred = (y_pred > 0.5)"
   ]
  },
  {
   "cell_type": "code",
   "execution_count": 24,
   "metadata": {
    "colab": {
     "base_uri": "https://localhost:8080/"
    },
    "id": "cm3EeOGTCi3-",
    "outputId": "f3cfe210-0811-4c4e-ce72-4100b32bb79f"
   },
   "outputs": [
    {
     "data": {
      "text/plain": [
       "array([[1463,  132],\n",
       "       [ 170,  235]])"
      ]
     },
     "execution_count": 24,
     "metadata": {},
     "output_type": "execute_result"
    }
   ],
   "source": [
    "# Making the Confusion Matrix\n",
    "from sklearn.metrics import confusion_matrix\n",
    "cm = confusion_matrix(y_test, y_pred)\n",
    "cm"
   ]
  },
  {
   "cell_type": "code",
   "execution_count": 25,
   "metadata": {
    "id": "FgfRKzzOClmP"
   },
   "outputs": [],
   "source": [
    "# Calculate the Accuracy\n",
    "from sklearn.metrics import accuracy_score\n",
    "score=accuracy_score(y_pred,y_test)"
   ]
  },
  {
   "cell_type": "code",
   "execution_count": 26,
   "metadata": {
    "colab": {
     "base_uri": "https://localhost:8080/"
    },
    "id": "a_C5EETrCpSj",
    "outputId": "6e495c58-0149-453b-b0d6-592606fe5c80"
   },
   "outputs": [
    {
     "data": {
      "text/plain": [
       "0.849"
      ]
     },
     "execution_count": 26,
     "metadata": {},
     "output_type": "execute_result"
    }
   ],
   "source": [
    "score"
   ]
  },
  {
   "cell_type": "code",
   "execution_count": 27,
   "metadata": {
    "id": "UTvHAjYWCqWx"
   },
   "outputs": [
    {
     "data": {
      "text/plain": [
       "[array([[ 8.82713404e-03,  7.72302449e-02,  6.72425985e-01,\n",
       "         -1.14724748e-01,  3.00298661e-01,  2.65165329e-01,\n",
       "          9.93816778e-02,  5.24078906e-02, -7.93617517e-02,\n",
       "          1.62539110e-01,  6.02919683e-02],\n",
       "        [ 5.69967985e-01,  1.26911119e-01, -1.30596645e-02,\n",
       "          6.79552615e-01,  4.76287276e-01,  3.05577934e-01,\n",
       "          2.73220390e-01,  1.23234428e-01,  1.58909634e-01,\n",
       "         -7.47741908e-02, -8.03129256e-01],\n",
       "        [ 3.78239185e-01, -2.26577744e-03, -5.65632470e-02,\n",
       "         -1.46183848e-01,  8.10109377e-02,  1.06550984e-01,\n",
       "          1.12297021e-01, -1.29894271e-01, -3.70776118e-03,\n",
       "         -6.00356571e-02, -4.49758507e-02],\n",
       "        [-4.39530224e-01,  7.77534023e-02,  7.04648912e-01,\n",
       "          9.69438553e-02, -2.57591069e-01, -2.28588000e-01,\n",
       "         -1.71642363e-01,  6.25266314e-01, -4.36695755e-01,\n",
       "         -7.33447909e-01,  2.05961913e-02],\n",
       "        [-1.10972255e-01,  7.41841435e-01, -8.17487419e-01,\n",
       "          5.70135117e-01,  1.59123167e-01,  1.02287853e+00,\n",
       "          2.61654947e-02,  6.09539390e-01, -1.09959793e+00,\n",
       "         -6.74017891e-02,  1.50385007e-01],\n",
       "        [-4.82174158e-01, -6.02020800e-01, -1.73607513e-01,\n",
       "          3.18845958e-02,  5.23940325e-01,  2.26406947e-01,\n",
       "         -1.93741381e-01,  3.37053686e-02, -3.45114991e-02,\n",
       "          1.09688036e-01,  1.05678766e-04],\n",
       "        [ 3.93204242e-01, -2.02667445e-01,  2.22138286e-01,\n",
       "          4.71126318e-01,  1.93380699e-01, -2.63598531e-01,\n",
       "          2.38554016e-01, -1.26618192e-01, -4.76127595e-01,\n",
       "         -1.26050800e-01, -3.49576890e-01],\n",
       "        [-2.13026598e-01,  2.62484401e-01, -3.96953940e-01,\n",
       "          2.24851876e-01, -1.40287736e-02, -2.47024238e-01,\n",
       "          1.85415342e-01, -3.14050429e-02,  2.79715657e-01,\n",
       "         -1.99129939e-01,  2.08433382e-02],\n",
       "        [-1.09838307e+00,  3.08996946e-01,  1.79792419e-01,\n",
       "          5.12878239e-01, -6.13763511e-01, -2.81183645e-02,\n",
       "          7.52371192e-01, -7.62710571e-01,  1.49643555e-01,\n",
       "         -3.71207833e-01, -2.53710270e-01],\n",
       "        [-8.11243653e-02,  3.01781982e-01, -9.16191339e-02,\n",
       "          4.83157635e-01, -1.09483032e-02, -7.92103484e-02,\n",
       "         -3.01374551e-02,  2.95615029e-02,  8.25576782e-02,\n",
       "          1.70819789e-01, -3.78702246e-02],\n",
       "        [ 3.22910845e-01, -4.48588990e-02, -4.36117440e-01,\n",
       "         -2.02196300e-01,  3.59479487e-01,  3.96641670e-03,\n",
       "          1.98307618e-01,  5.31956144e-02,  9.98407379e-02,\n",
       "         -2.37109199e-01,  3.92284654e-02]], dtype=float32),\n",
       " array([ 0.10565945, -0.32179183, -0.16871127,  0.40463993,  0.30256817,\n",
       "        -0.17884117,  0.231628  , -0.40581098,  0.33377054,  0.5901949 ,\n",
       "         1.2758244 ], dtype=float32),\n",
       " array([[ 0.38564438, -0.5110021 , -0.80595803,  0.39959082,  0.6547223 ,\n",
       "         -0.0473568 ],\n",
       "        [-0.20734778,  0.36668938, -0.26201543,  0.03973712,  0.43556648,\n",
       "         -0.97831714],\n",
       "        [-0.40594992, -2.419551  ,  0.46583962, -0.02650176,  0.47944194,\n",
       "          0.52046186],\n",
       "        [ 0.4465039 ,  0.5666973 ,  0.45986843,  0.3183613 ,  0.5836818 ,\n",
       "          0.52765554],\n",
       "        [ 0.45679837, -0.2821435 , -0.7680865 ,  0.5387275 , -0.15799591,\n",
       "          0.43016872],\n",
       "        [-0.12800123,  0.7578236 , -0.21990055,  0.16477336,  0.10289288,\n",
       "         -0.32549378],\n",
       "        [ 0.16674739, -0.70365906, -0.06993324,  0.07546432, -0.1231133 ,\n",
       "          0.18694162],\n",
       "        [-0.39635918, -0.34369546,  0.23522273,  0.63317126,  0.17391068,\n",
       "         -0.5462728 ],\n",
       "        [-0.32401747, -0.13926148,  0.06240613,  0.7179994 , -0.23455656,\n",
       "         -0.05908989],\n",
       "        [-0.03727386, -0.7089796 , -0.972921  ,  0.28416985, -0.41735864,\n",
       "          0.21614541],\n",
       "        [ 0.7168399 ,  0.22375701, -0.2709118 , -1.0559154 ,  0.25072345,\n",
       "         -0.29698926]], dtype=float32),\n",
       " array([ 0.47971588, -0.18799517, -0.2072736 ,  0.14406207,  0.4968644 ,\n",
       "         0.34304082], dtype=float32),\n",
       " array([[ 0.9063899 ],\n",
       "        [-1.3769503 ],\n",
       "        [-0.5214042 ],\n",
       "        [-0.6060422 ],\n",
       "        [ 0.13369054],\n",
       "        [ 0.42292547]], dtype=float32),\n",
       " array([0.46679983], dtype=float32),\n",
       " array([[-2.1510475]], dtype=float32),\n",
       " array([2.2975535], dtype=float32)]"
      ]
     },
     "execution_count": 27,
     "metadata": {},
     "output_type": "execute_result"
    }
   ],
   "source": [
    "classifier.get_weights()"
   ]
  },
  {
   "cell_type": "code",
   "execution_count": null,
   "metadata": {},
   "outputs": [],
   "source": []
  },
  {
   "cell_type": "code",
   "execution_count": null,
   "metadata": {},
   "outputs": [],
   "source": []
  },
  {
   "cell_type": "code",
   "execution_count": null,
   "metadata": {},
   "outputs": [],
   "source": []
  },
  {
   "cell_type": "code",
   "execution_count": null,
   "metadata": {},
   "outputs": [],
   "source": []
  }
 ],
 "metadata": {
  "colab": {
   "name": "Untitled63.ipynb",
   "provenance": []
  },
  "kernelspec": {
   "display_name": "Python 3 (ipykernel)",
   "language": "python",
   "name": "python3"
  },
  "language_info": {
   "codemirror_mode": {
    "name": "ipython",
    "version": 3
   },
   "file_extension": ".py",
   "mimetype": "text/x-python",
   "name": "python",
   "nbconvert_exporter": "python",
   "pygments_lexer": "ipython3",
   "version": "3.9.16"
  }
 },
 "nbformat": 4,
 "nbformat_minor": 1
}
